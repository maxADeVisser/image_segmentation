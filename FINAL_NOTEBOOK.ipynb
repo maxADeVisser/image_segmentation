{
 "cells": [
  {
   "attachments": {},
   "cell_type": "markdown",
   "metadata": {},
   "source": [
    "# Model Evaluation\n",
    "\n",
    "We are using the mean Intersection over Union (IoU) metric to evaluate the segmentation ability of our model:\n",
    "<img src=\"images/iou.png\" alt= \"Intersection over Union\" width=\"500\" height=\"200\">"
   ]
  },
  {
   "cell_type": "code",
   "execution_count": null,
   "metadata": {},
   "outputs": [],
   "source": []
  }
 ],
 "metadata": {
  "language_info": {
   "name": "python"
  },
  "orig_nbformat": 4
 },
 "nbformat": 4,
 "nbformat_minor": 2
}
