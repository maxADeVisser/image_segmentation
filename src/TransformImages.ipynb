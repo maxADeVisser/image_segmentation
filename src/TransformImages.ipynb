{
 "cells": [
  {
   "cell_type": "code",
   "execution_count": 1,
   "metadata": {},
   "outputs": [],
   "source": [
    "from pathlib import Path\n",
    "from typing import Tuple\n",
    "\n",
    "import matplotlib.pyplot as plt\n",
    "import numpy as np\n",
    "import pandas as pd\n",
    "import torch\n",
    "import torch.utils.data as data\n",
    "from torchvision import transforms\n",
    "\n",
    "from PIL import Image\n",
    "from tqdm import tqdm\n",
    "\n",
    "from utils import locate_data"
   ]
  },
  {
   "cell_type": "code",
   "execution_count": 2,
   "metadata": {},
   "outputs": [],
   "source": [
    "import os"
   ]
  },
  {
   "cell_type": "code",
   "execution_count": 3,
   "metadata": {},
   "outputs": [],
   "source": [
    "image_transforms = [\"flip\",\n",
    "                    \"crop\",\n",
    "                    \"perspective\",\n",
    "                    \"jitter\"]"
   ]
  },
  {
   "cell_type": "code",
   "execution_count": 4,
   "metadata": {},
   "outputs": [],
   "source": [
    "data_path = Path(\"data/CamVid\")"
   ]
  },
  {
   "cell_type": "code",
   "execution_count": 5,
   "metadata": {},
   "outputs": [],
   "source": [
    "image_paths = sorted((data_path / \"train\").glob(\"*\"))\n",
    "mask_paths = sorted((data_path / \"train_labels\").glob(\"*\"))"
   ]
  },
  {
   "cell_type": "code",
   "execution_count": 6,
   "metadata": {},
   "outputs": [
    {
     "data": {
      "text/plain": [
       "True"
      ]
     },
     "execution_count": 6,
     "metadata": {},
     "output_type": "execute_result"
    }
   ],
   "source": [
    "torch.cuda.is_available()"
   ]
  },
  {
   "cell_type": "code",
   "execution_count": 7,
   "metadata": {},
   "outputs": [
    {
     "ename": "FileExistsError",
     "evalue": "[Errno 17] File exists: 'data/CamVid/train_flip'",
     "output_type": "error",
     "traceback": [
      "\u001b[0;31m---------------------------------------------------------------------------\u001b[0m",
      "\u001b[0;31mFileExistsError\u001b[0m                           Traceback (most recent call last)",
      "Cell \u001b[0;32mIn[7], line 2\u001b[0m\n\u001b[1;32m      1\u001b[0m \u001b[39mfor\u001b[39;00m t \u001b[39min\u001b[39;00m image_transforms:\n\u001b[0;32m----> 2\u001b[0m     os\u001b[39m.\u001b[39;49mmkdir(data_path \u001b[39m/\u001b[39;49m (\u001b[39m\"\u001b[39;49m\u001b[39mtrain_\u001b[39;49m\u001b[39m\"\u001b[39;49m\u001b[39m+\u001b[39;49m t))\n\u001b[1;32m      3\u001b[0m     os\u001b[39m.\u001b[39mmkdir(data_path \u001b[39m/\u001b[39m (\u001b[39m\"\u001b[39m\u001b[39mtrain_labels_\u001b[39m\u001b[39m\"\u001b[39m\u001b[39m+\u001b[39m t))\n",
      "\u001b[0;31mFileExistsError\u001b[0m: [Errno 17] File exists: 'data/CamVid/train_flip'"
     ]
    }
   ],
   "source": [
    "for t in image_transforms:\n",
    "    os.mkdir(data_path / (\"train_\"+ t))\n",
    "    os.mkdir(data_path / (\"train_labels_\"+ t))"
   ]
  },
  {
   "cell_type": "code",
   "execution_count": 8,
   "metadata": {},
   "outputs": [
    {
     "name": "stderr",
     "output_type": "stream",
     "text": [
      "100%|██████████| 369/369 [01:53<00:00,  3.25it/s]\n"
     ]
    }
   ],
   "source": [
    "flip_transform = transforms.RandomHorizontalFlip(p=1)\n",
    "crop_transform = transforms.RandomCrop(size=(360, 480))\n",
    "perspective_transform = transforms.Compose(\n",
    "            [transforms.RandomPerspective(distortion_scale=0.5, p=1),\n",
    "            transforms.CenterCrop(size=(360, 480))])\n",
    "jitter_transform = transforms.ColorJitter(brightness=(1.2,2),hue=(-0.5,0.5))\n",
    "\n",
    "tensor_transform = transforms.ToTensor()\n",
    "\n",
    "\n",
    "\n",
    "\n",
    "flip_images = list()\n",
    "crop_images = list()\n",
    "perspective_images = list()\n",
    "jitter_images = list()\n",
    "\n",
    "flip_masks = list()\n",
    "crop_masks = list()\n",
    "perspective_masks = list()\n",
    "jitter_masks = list()\n",
    "\n",
    "\n",
    "\n",
    "for i in tqdm(range(len(image_paths))):\n",
    "    image_path = image_paths[i]\n",
    "    mask_path = mask_paths[i]\n",
    "\n",
    "    with open(image_path, \"rb\") as image_file, open(mask_path, \"rb\") as mask_file:\n",
    "        image = Image.open(image_file)\n",
    "        mask = Image.open(mask_file)\n",
    "\n",
    "        image = tensor_transform(image)\n",
    "        mask =  tensor_transform(mask)\n",
    "\n",
    "\n",
    "        flip_images.append(flip_transform(image))\n",
    "        flip_masks.append(flip_transform(mask))\n",
    "\n",
    "        crop_images.append(crop_transform(image))\n",
    "        crop_masks.append(crop_transform(mask))\n",
    "\n",
    "        perspective_images.append(perspective_transform(image))\n",
    "        perspective_masks.append(perspective_transform(mask))\n",
    "\n",
    "        jitter_images.append(jitter_transform(image))\n",
    "        jitter_masks.append(jitter_transform(mask))\n",
    "        \n",
    "        "
   ]
  },
  {
   "cell_type": "code",
   "execution_count": 10,
   "metadata": {},
   "outputs": [],
   "source": [
    "toimage = transforms.ToPILImage()"
   ]
  },
  {
   "cell_type": "code",
   "execution_count": 15,
   "metadata": {},
   "outputs": [
    {
     "data": {
      "text/plain": [
       "'0001TP_009210.png'"
      ]
     },
     "execution_count": 15,
     "metadata": {},
     "output_type": "execute_result"
    }
   ],
   "source": [
    "os.path.basename(image_paths[0])"
   ]
  },
  {
   "cell_type": "code",
   "execution_count": 18,
   "metadata": {},
   "outputs": [
    {
     "name": "stderr",
     "output_type": "stream",
     "text": [
      "100%|██████████| 369/369 [04:12<00:00,  1.46it/s]\n"
     ]
    }
   ],
   "source": [
    "for i in tqdm(range(len(image_paths))):\n",
    "\n",
    "\n",
    "    image_name = os.path.basename(image_paths[i])\n",
    "    mask_name = os.path.basename(mask_paths[i])\n",
    "\n",
    "    toimage(flip_images[i]).save(data_path /(\"train_flip/\"+ image_name))\n",
    "    toimage(flip_masks[i]).save(data_path /(\"train_labels_flip/\"+ mask_name))\n",
    "    toimage(crop_images[i]).save(data_path /(\"train_crop/\"+ image_name))\n",
    "    toimage(crop_masks[i]).save(data_path /(\"train_labels_crop/\"+ mask_name))\n",
    "    toimage(perspective_images[i]).save(data_path /(\"train_perspective/\"+ image_name))\n",
    "    toimage(perspective_masks[i]).save(data_path /(\"train_labels_perspective/\"+ mask_name))\n",
    "    toimage(jitter_images[i]).save(data_path /(\"train_jitter/\"+ image_name))\n",
    "    toimage(jitter_masks[i]).save(data_path /(\"train_labels_jitter/\"+ mask_name))\n"
   ]
  },
  {
   "cell_type": "code",
   "execution_count": 17,
   "metadata": {},
   "outputs": [
    {
     "data": {
      "text/plain": [
       "PosixPath('data/CamVid/train_flip/0001TP_009210.png')"
      ]
     },
     "execution_count": 17,
     "metadata": {},
     "output_type": "execute_result"
    }
   ],
   "source": [
    "data_path /(\"train_flip/\"+ os.path.basename(image_paths[0]))"
   ]
  },
  {
   "cell_type": "code",
   "execution_count": 19,
   "metadata": {},
   "outputs": [],
   "source": [
    "from segmentationData import SegmentationDataset"
   ]
  },
  {
   "cell_type": "code",
   "execution_count": null,
   "metadata": {},
   "outputs": [],
   "source": [
    "transformations = transforms.Compose(\n",
    "                              [\n",
    "                                transforms.ToTensor(),\n",
    "                                transforms.Normalize(mean=[0.485, 0.456, 0.406], std=[0.229, 0.224, 0.225]),\n",
    "                            ]\n",
    "                            )\n",
    "\n",
    "\n",
    "dataset = SegmentationDataset(Path(\"data/CamVid\"),\n",
    "                              transforms=transformations,\n",
    "                              image_folder=\"train\",\n",
    "                              mask_folder=\"train_labels\",\n",
    "                              augments=[\"crop\"]\n",
    "                             )"
   ]
  },
  {
   "attachments": {},
   "cell_type": "markdown",
   "metadata": {},
   "source": []
  }
 ],
 "metadata": {
  "kernelspec": {
   "display_name": "image-segmentation-EDnG7sl7-py3.10",
   "language": "python",
   "name": "python3"
  },
  "language_info": {
   "codemirror_mode": {
    "name": "ipython",
    "version": 3
   },
   "file_extension": ".py",
   "mimetype": "text/x-python",
   "name": "python",
   "nbconvert_exporter": "python",
   "pygments_lexer": "ipython3",
   "version": "3.11.3"
  },
  "orig_nbformat": 4
 },
 "nbformat": 4,
 "nbformat_minor": 2
}
