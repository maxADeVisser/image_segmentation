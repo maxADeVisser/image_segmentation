{
 "cells": [
  {
   "cell_type": "code",
   "execution_count": null,
   "metadata": {},
   "outputs": [],
   "source": [
    "from CamVidData import SemanticSegmentationDataset, mask_to_rgb, compare_images\n",
    "from pathlib import Path\n",
    "import torch"
   ]
  },
  {
   "cell_type": "code",
   "execution_count": null,
   "metadata": {},
   "outputs": [],
   "source": [
    "DATA_DIR = Path(\"../data/CamVid/\")\n",
    "dataset = SemanticSegmentationDataset(DATA_DIR,image_size = (720,720))"
   ]
  },
  {
   "cell_type": "code",
   "execution_count": null,
   "metadata": {},
   "outputs": [],
   "source": [
    "idx = 821\n",
    "X,y = dataset[idx]\n",
    "X = X.permute(1,2,0).numpy()\n",
    "y = mask_to_rgb(y.numpy(),dataset.class_labels)\n",
    "compare_images([X,y])"
   ]
  },
  {
   "cell_type": "code",
   "execution_count": null,
   "metadata": {},
   "outputs": [],
   "source": [
    "index = 200\n",
    "imgs = []\n",
    "for i in range(5):\n",
    "    X, y = dataset[index + i * len(dataset.X_train)]\n",
    "    imgs.append(X.permute(1,2,0).numpy())\n",
    "\n",
    "compare_images(imgs)"
   ]
  },
  {
   "cell_type": "code",
   "execution_count": null,
   "metadata": {},
   "outputs": [],
   "source": []
  }
 ],
 "metadata": {
  "kernelspec": {
   "display_name": "image-segmentation-QN7uw8Fi-py3.10",
   "language": "python",
   "name": "python3"
  },
  "language_info": {
   "codemirror_mode": {
    "name": "ipython",
    "version": 3
   },
   "file_extension": ".py",
   "mimetype": "text/x-python",
   "name": "python",
   "nbconvert_exporter": "python",
   "pygments_lexer": "ipython3",
   "version": "3.10.7"
  },
  "orig_nbformat": 4
 },
 "nbformat": 4,
 "nbformat_minor": 2
}
